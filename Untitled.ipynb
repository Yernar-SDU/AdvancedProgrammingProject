{
 "cells": [
  {
   "cell_type": "code",
   "execution_count": 13,
   "id": "a966f08a",
   "metadata": {},
   "outputs": [],
   "source": [
    "import requests\n",
    "import re # regular expressions\n",
    "from bs4 import BeautifulSoup\n",
    "from selenium import webdriver\n",
    "import pandas as pd"
   ]
  },
  {
   "cell_type": "code",
   "execution_count": 21,
   "id": "6110cfe7",
   "metadata": {},
   "outputs": [],
   "source": [
    "# local variables\n",
    "URL = 'https://www.wildberries.ru/catalog/zhenshchinam/odezhda/bluzki-i-rubashki'\n",
    "class_title = 'product-card'"
   ]
  },
  {
   "cell_type": "code",
   "execution_count": 22,
   "id": "cf5db8fe",
   "metadata": {},
   "outputs": [],
   "source": [
    "CHROME_DRIVER_PATH = r'C:\\Users\\User\\Downloads\\chromedriver_win32\\chromedriver.exe'\n",
    "driver = webdriver.Chrome(CHROME_DRIVER_PATH)"
   ]
  },
  {
   "cell_type": "code",
   "execution_count": 23,
   "id": "cce38f48",
   "metadata": {},
   "outputs": [],
   "source": [
    "driver.get(URL)"
   ]
  },
  {
   "cell_type": "code",
   "execution_count": 24,
   "id": "4e5cfa76",
   "metadata": {},
   "outputs": [],
   "source": [
    "content = driver.page_source\n",
    "soup = BeautifulSoup(content)"
   ]
  },
  {
   "cell_type": "code",
   "execution_count": 25,
   "id": "4e35d13e",
   "metadata": {},
   "outputs": [],
   "source": [
    "block = soup.find('div', attrs={'class':class_title})"
   ]
  },
  {
   "cell_type": "code",
   "execution_count": 27,
   "id": "4fff9926",
   "metadata": {},
   "outputs": [],
   "source": [
    "block"
   ]
  },
  {
   "cell_type": "code",
   "execution_count": null,
   "id": "c0d4a47e",
   "metadata": {},
   "outputs": [],
   "source": []
  },
  {
   "cell_type": "code",
   "execution_count": null,
   "id": "814bca25",
   "metadata": {},
   "outputs": [],
   "source": []
  }
 ],
 "metadata": {
  "kernelspec": {
   "display_name": "Python 3 (ipykernel)",
   "language": "python",
   "name": "python3"
  },
  "language_info": {
   "codemirror_mode": {
    "name": "ipython",
    "version": 3
   },
   "file_extension": ".py",
   "mimetype": "text/x-python",
   "name": "python",
   "nbconvert_exporter": "python",
   "pygments_lexer": "ipython3",
   "version": "3.9.4"
  }
 },
 "nbformat": 4,
 "nbformat_minor": 5
}
