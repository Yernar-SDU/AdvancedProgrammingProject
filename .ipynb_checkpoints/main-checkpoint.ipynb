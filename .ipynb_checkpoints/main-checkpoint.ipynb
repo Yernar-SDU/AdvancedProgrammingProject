{
 "cells": [
  {
   "cell_type": "code",
   "execution_count": 1,
   "id": "e0b7675a",
   "metadata": {},
   "outputs": [],
   "source": [
    "import requests\n",
    "import re # regular expressions\n",
    "from bs4 import BeautifulSoup\n",
    "from selenium import webdriver\n",
    "import pandas as pd\n",
    "import unidecode\n",
    "from selenium.webdriver.support.ui import WebDriverWait\n",
    "from selenium.webdriver.common.by import By\n",
    "from selenium.webdriver.support import expected_conditions as EC\n",
    "from selenium.webdriver.common.action_chains import ActionChains"
   ]
  },
  {
   "cell_type": "code",
   "execution_count": 2,
   "id": "4bde2a11",
   "metadata": {},
   "outputs": [],
   "source": [
    "# local variables\n",
    "URL = 'https://www.wildberries.ru/catalog/muzhchinam/odezhda/bryuki-i-shorty'\n",
    "class_title = 'j-card-item'"
   ]
  },
  {
   "cell_type": "code",
   "execution_count": 3,
   "id": "a6bc7a0c",
   "metadata": {},
   "outputs": [],
   "source": [
    "CHROME_DRIVER_PATH = r'C:\\Users\\User\\Downloads\\chromedriver_win32\\chromedriver.exe'\n",
    "driver = webdriver.Chrome(CHROME_DRIVER_PATH)"
   ]
  },
  {
   "cell_type": "code",
   "execution_count": 4,
   "id": "bda12c4f",
   "metadata": {},
   "outputs": [
    {
     "name": "stdout",
     "output_type": "stream",
     "text": [
      "Page is ready!\n"
     ]
    }
   ],
   "source": [
    "driver.get(URL)\n",
    "delay = 3\n",
    "try:\n",
    "    myElem = WebDriverWait(driver, delay).until(EC.presence_of_element_located((By.CLASS_NAME, 'lower-price')))\n",
    "    print(\"Page is ready!\")\n",
    "except TimeoutException:\n",
    "    print(\"Loading took too much time!\")"
   ]
  },
  {
   "cell_type": "code",
   "execution_count": 5,
   "id": "8ebbeab3",
   "metadata": {},
   "outputs": [],
   "source": [
    "content = driver.page_source\n",
    "soup = BeautifulSoup(content)\n"
   ]
  },
  {
   "cell_type": "code",
   "execution_count": 37,
   "id": "b3b09cef",
   "metadata": {},
   "outputs": [],
   "source": [
    "prices = []\n",
    "brands = []\n",
    "categories = []\n",
    "sizes_available = []\n",
    "block = soup.find('div', attrs={'class':class_title})\n",
    "block"
   ]
  },
  {
   "cell_type": "code",
   "execution_count": null,
   "id": "6a53677d",
   "metadata": {
    "scrolled": true
   },
   "outputs": [],
   "source": []
  },
  {
   "cell_type": "code",
   "execution_count": 7,
   "id": "f6c55caf",
   "metadata": {},
   "outputs": [],
   "source": [
    "for block in soup.findAll('div', attrs={'class':class_title}):\n",
    "    #todo\n",
    "    #ActionChains(driver).click(block).perform()   \n",
    "           \n",
    "    # Get price of clothes\n",
    "    priceString = \"0\"\n",
    "    priceBlock = block.find('ins', attrs={'class': 'lower-price'})\n",
    "    if(priceBlock != None):\n",
    "        priceString = block.find('ins', attrs={'class': 'lower-price'}).text\n",
    "    else:\n",
    "        priceString = block.find('span', attrs={'class': 'lower-price'}).text\n",
    "    price = unidecode.unidecode(priceString.strip())\n",
    "    prices.append(price)\n",
    "    # Get brand of clothes\n",
    "    brandString = block.find('strong', attrs={'class': 'brand-name'}).text\n",
    "    brand = unidecode.unidecode(brandString.strip())\n",
    "    brands.append(brand)\n",
    "    \n",
    "    # Get category of clothes\n",
    "    categoryString = block.find('span', attrs={'class': 'goods-name'}).text\n",
    "    category = unidecode.unidecode(categoryString.strip())\n",
    "    categories.append(category)\n",
    "    \n",
    "    # todo\n",
    "    # Get sizes of clothes\n",
    "    sizes = []\n",
    "#    for sizes_block in block.find('span', attrs = {'class': 'product-card__sizes'}):\n",
    "#        sizeString = sizes_block.find('a', attrs={'class': 'j-size'}).text\n",
    "#        size = unidecode.unidecode(sizeString.strip())\n",
    "#        sizes.append(size)\n",
    "#        print(sizes)\n",
    "    sizes_available.append(sizes)"
   ]
  },
  {
   "cell_type": "code",
   "execution_count": 8,
   "id": "9a434f63",
   "metadata": {},
   "outputs": [],
   "source": [
    "data = {\n",
    "    \"Categories\" : categories,\n",
    "    \"Brand\" : brands,\n",
    "    \"Price\" : prices\n",
    "}\n",
    "\n",
    "df = pd.DataFrame(data)"
   ]
  },
  {
   "cell_type": "code",
   "execution_count": 9,
   "id": "1852a69b",
   "metadata": {},
   "outputs": [
    {
     "data": {
      "text/html": [
       "<div>\n",
       "<style scoped>\n",
       "    .dataframe tbody tr th:only-of-type {\n",
       "        vertical-align: middle;\n",
       "    }\n",
       "\n",
       "    .dataframe tbody tr th {\n",
       "        vertical-align: top;\n",
       "    }\n",
       "\n",
       "    .dataframe thead th {\n",
       "        text-align: right;\n",
       "    }\n",
       "</style>\n",
       "<table border=\"1\" class=\"dataframe\">\n",
       "  <thead>\n",
       "    <tr style=\"text-align: right;\">\n",
       "      <th></th>\n",
       "      <th>Categories</th>\n",
       "      <th>Brand</th>\n",
       "      <th>Price</th>\n",
       "    </tr>\n",
       "  </thead>\n",
       "  <tbody>\n",
       "    <tr>\n",
       "      <th>0</th>\n",
       "      <td>Briuki chernye sinie serye muzhskie kletka</td>\n",
       "      <td>OfficeStyleman</td>\n",
       "      <td>3 400 R</td>\n",
       "    </tr>\n",
       "    <tr>\n",
       "      <th>1</th>\n",
       "      <td>Sportivnye shtany muzhskie dzhoggery</td>\n",
       "      <td>Nike</td>\n",
       "      <td>4 409 R</td>\n",
       "    </tr>\n",
       "    <tr>\n",
       "      <th>2</th>\n",
       "      <td>Briuki muzhskie sportivnye, shtany dzhoggery</td>\n",
       "      <td>Barouz Jeans</td>\n",
       "      <td>1 792 R</td>\n",
       "    </tr>\n",
       "    <tr>\n",
       "      <th>3</th>\n",
       "      <td>Briuki muzhskie sportivnye osennie</td>\n",
       "      <td>DreamFit</td>\n",
       "      <td>1 320 R</td>\n",
       "    </tr>\n",
       "    <tr>\n",
       "      <th>4</th>\n",
       "      <td>Briuki muzhskie (dzhoggery, shtany kargo)</td>\n",
       "      <td>Hooligan STORE multibrand</td>\n",
       "      <td>3 330 R</td>\n",
       "    </tr>\n",
       "    <tr>\n",
       "      <th>...</th>\n",
       "      <td>...</td>\n",
       "      <td>...</td>\n",
       "      <td>...</td>\n",
       "    </tr>\n",
       "    <tr>\n",
       "      <th>100</th>\n",
       "      <td>Briuki muzhskie s manzhetami</td>\n",
       "      <td>X_man</td>\n",
       "      <td>1 280 R</td>\n",
       "    </tr>\n",
       "    <tr>\n",
       "      <th>101</th>\n",
       "      <td>Briuki muzhskie Shtany uteplionnye podarok</td>\n",
       "      <td>Best Trikotazh</td>\n",
       "      <td>1 449 R</td>\n",
       "    </tr>\n",
       "    <tr>\n",
       "      <th>102</th>\n",
       "      <td>Briuki priamye muzhskie, klassicheskie</td>\n",
       "      <td>LAINA</td>\n",
       "      <td>1 338 R</td>\n",
       "    </tr>\n",
       "    <tr>\n",
       "      <th>103</th>\n",
       "      <td>Briuki muzhskie klassicheskie priamye shtany</td>\n",
       "      <td>AMT WEAR</td>\n",
       "      <td>3 515 R</td>\n",
       "    </tr>\n",
       "    <tr>\n",
       "      <th>104</th>\n",
       "      <td>Briuki muzhskie (dzhoggery, kargo, chinosy)</td>\n",
       "      <td>Bronks</td>\n",
       "      <td>2 866 R</td>\n",
       "    </tr>\n",
       "  </tbody>\n",
       "</table>\n",
       "<p>105 rows × 3 columns</p>\n",
       "</div>"
      ],
      "text/plain": [
       "                                       Categories                      Brand  \\\n",
       "0      Briuki chernye sinie serye muzhskie kletka             OfficeStyleman   \n",
       "1            Sportivnye shtany muzhskie dzhoggery                       Nike   \n",
       "2    Briuki muzhskie sportivnye, shtany dzhoggery               Barouz Jeans   \n",
       "3              Briuki muzhskie sportivnye osennie                   DreamFit   \n",
       "4       Briuki muzhskie (dzhoggery, shtany kargo)  Hooligan STORE multibrand   \n",
       "..                                            ...                        ...   \n",
       "100                  Briuki muzhskie s manzhetami                      X_man   \n",
       "101    Briuki muzhskie Shtany uteplionnye podarok             Best Trikotazh   \n",
       "102        Briuki priamye muzhskie, klassicheskie                      LAINA   \n",
       "103  Briuki muzhskie klassicheskie priamye shtany                   AMT WEAR   \n",
       "104   Briuki muzhskie (dzhoggery, kargo, chinosy)                     Bronks   \n",
       "\n",
       "       Price  \n",
       "0    3 400 R  \n",
       "1    4 409 R  \n",
       "2    1 792 R  \n",
       "3    1 320 R  \n",
       "4    3 330 R  \n",
       "..       ...  \n",
       "100  1 280 R  \n",
       "101  1 449 R  \n",
       "102  1 338 R  \n",
       "103  3 515 R  \n",
       "104  2 866 R  \n",
       "\n",
       "[105 rows x 3 columns]"
      ]
     },
     "execution_count": 9,
     "metadata": {},
     "output_type": "execute_result"
    }
   ],
   "source": [
    "df"
   ]
  },
  {
   "cell_type": "code",
   "execution_count": 58,
   "id": "87de3cef",
   "metadata": {},
   "outputs": [
    {
     "name": "stdout",
     "output_type": "stream",
     "text": [
      "<selenium.webdriver.remote.webelement.WebElement (session=\"23528fb097df0593e4f45efc8c240c7a\", element=\"cd394a8e-2146-416f-b8a5-fe29c25e0239\")>\n",
      "<selenium.webdriver.remote.webelement.WebElement (session=\"23528fb097df0593e4f45efc8c240c7a\", element=\"52eb254e-14ad-459c-a00c-3216512da315\")>\n"
     ]
    },
    {
     "ename": "StaleElementReferenceException",
     "evalue": "Message: stale element reference: element is not attached to the page document\n  (Session info: chrome=106.0.5249.119)\n",
     "output_type": "error",
     "traceback": [
      "\u001b[1;31m---------------------------------------------------------------------------\u001b[0m",
      "\u001b[1;31mStaleElementReferenceException\u001b[0m            Traceback (most recent call last)",
      "Cell \u001b[1;32mIn [58], line 29\u001b[0m\n\u001b[0;32m     27\u001b[0m \u001b[38;5;28;01mfor\u001b[39;00m block \u001b[38;5;129;01min\u001b[39;00m items:\n\u001b[0;32m     28\u001b[0m     \u001b[38;5;28mprint\u001b[39m(block)\n\u001b[1;32m---> 29\u001b[0m     \u001b[43mActionChains\u001b[49m\u001b[43m(\u001b[49m\u001b[43mdriver\u001b[49m\u001b[43m)\u001b[49m\u001b[38;5;241;43m.\u001b[39;49m\u001b[43mclick\u001b[49m\u001b[43m(\u001b[49m\u001b[43mblock\u001b[49m\u001b[43m)\u001b[49m\u001b[38;5;241;43m.\u001b[39;49m\u001b[43mpause\u001b[49m\u001b[43m(\u001b[49m\u001b[38;5;241;43m5\u001b[39;49m\u001b[43m)\u001b[49m\u001b[38;5;241;43m.\u001b[39;49m\u001b[43mperform\u001b[49m\u001b[43m(\u001b[49m\u001b[43m)\u001b[49m\n\u001b[0;32m     30\u001b[0m     ActionChains(driver)\u001b[38;5;241m.\u001b[39mclick(burgerButton)\u001b[38;5;241m.\u001b[39mpause(\u001b[38;5;241m1\u001b[39m)\u001b[38;5;241m.\u001b[39mclick(shoesButton)\u001b[38;5;241m.\u001b[39mperform()\n",
      "File \u001b[1;32mc:\\users\\user\\appdata\\local\\programs\\python\\python39\\lib\\site-packages\\selenium\\webdriver\\common\\action_chains.py:80\u001b[0m, in \u001b[0;36mActionChains.perform\u001b[1;34m(self)\u001b[0m\n\u001b[0;32m     76\u001b[0m \u001b[38;5;124;03m\"\"\"\u001b[39;00m\n\u001b[0;32m     77\u001b[0m \u001b[38;5;124;03mPerforms all stored actions.\u001b[39;00m\n\u001b[0;32m     78\u001b[0m \u001b[38;5;124;03m\"\"\"\u001b[39;00m\n\u001b[0;32m     79\u001b[0m \u001b[38;5;28;01mif\u001b[39;00m \u001b[38;5;28mself\u001b[39m\u001b[38;5;241m.\u001b[39m_driver\u001b[38;5;241m.\u001b[39mw3c:\n\u001b[1;32m---> 80\u001b[0m     \u001b[38;5;28;43mself\u001b[39;49m\u001b[38;5;241;43m.\u001b[39;49m\u001b[43mw3c_actions\u001b[49m\u001b[38;5;241;43m.\u001b[39;49m\u001b[43mperform\u001b[49m\u001b[43m(\u001b[49m\u001b[43m)\u001b[49m\n\u001b[0;32m     81\u001b[0m \u001b[38;5;28;01melse\u001b[39;00m:\n\u001b[0;32m     82\u001b[0m     \u001b[38;5;28;01mfor\u001b[39;00m action \u001b[38;5;129;01min\u001b[39;00m \u001b[38;5;28mself\u001b[39m\u001b[38;5;241m.\u001b[39m_actions:\n",
      "File \u001b[1;32mc:\\users\\user\\appdata\\local\\programs\\python\\python39\\lib\\site-packages\\selenium\\webdriver\\common\\actions\\action_builder.py:76\u001b[0m, in \u001b[0;36mActionBuilder.perform\u001b[1;34m(self)\u001b[0m\n\u001b[0;32m     74\u001b[0m     \u001b[38;5;28;01mif\u001b[39;00m encoded[\u001b[38;5;124m'\u001b[39m\u001b[38;5;124mactions\u001b[39m\u001b[38;5;124m'\u001b[39m]:\n\u001b[0;32m     75\u001b[0m         enc[\u001b[38;5;124m\"\u001b[39m\u001b[38;5;124mactions\u001b[39m\u001b[38;5;124m\"\u001b[39m]\u001b[38;5;241m.\u001b[39mappend(encoded)\n\u001b[1;32m---> 76\u001b[0m \u001b[38;5;28;43mself\u001b[39;49m\u001b[38;5;241;43m.\u001b[39;49m\u001b[43mdriver\u001b[49m\u001b[38;5;241;43m.\u001b[39;49m\u001b[43mexecute\u001b[49m\u001b[43m(\u001b[49m\u001b[43mCommand\u001b[49m\u001b[38;5;241;43m.\u001b[39;49m\u001b[43mW3C_ACTIONS\u001b[49m\u001b[43m,\u001b[49m\u001b[43m \u001b[49m\u001b[43menc\u001b[49m\u001b[43m)\u001b[49m\n",
      "File \u001b[1;32mc:\\users\\user\\appdata\\local\\programs\\python\\python39\\lib\\site-packages\\selenium\\webdriver\\remote\\webdriver.py:321\u001b[0m, in \u001b[0;36mWebDriver.execute\u001b[1;34m(self, driver_command, params)\u001b[0m\n\u001b[0;32m    319\u001b[0m response \u001b[38;5;241m=\u001b[39m \u001b[38;5;28mself\u001b[39m\u001b[38;5;241m.\u001b[39mcommand_executor\u001b[38;5;241m.\u001b[39mexecute(driver_command, params)\n\u001b[0;32m    320\u001b[0m \u001b[38;5;28;01mif\u001b[39;00m response:\n\u001b[1;32m--> 321\u001b[0m     \u001b[38;5;28;43mself\u001b[39;49m\u001b[38;5;241;43m.\u001b[39;49m\u001b[43merror_handler\u001b[49m\u001b[38;5;241;43m.\u001b[39;49m\u001b[43mcheck_response\u001b[49m\u001b[43m(\u001b[49m\u001b[43mresponse\u001b[49m\u001b[43m)\u001b[49m\n\u001b[0;32m    322\u001b[0m     response[\u001b[38;5;124m'\u001b[39m\u001b[38;5;124mvalue\u001b[39m\u001b[38;5;124m'\u001b[39m] \u001b[38;5;241m=\u001b[39m \u001b[38;5;28mself\u001b[39m\u001b[38;5;241m.\u001b[39m_unwrap_value(\n\u001b[0;32m    323\u001b[0m         response\u001b[38;5;241m.\u001b[39mget(\u001b[38;5;124m'\u001b[39m\u001b[38;5;124mvalue\u001b[39m\u001b[38;5;124m'\u001b[39m, \u001b[38;5;28;01mNone\u001b[39;00m))\n\u001b[0;32m    324\u001b[0m     \u001b[38;5;28;01mreturn\u001b[39;00m response\n",
      "File \u001b[1;32mc:\\users\\user\\appdata\\local\\programs\\python\\python39\\lib\\site-packages\\selenium\\webdriver\\remote\\errorhandler.py:242\u001b[0m, in \u001b[0;36mErrorHandler.check_response\u001b[1;34m(self, response)\u001b[0m\n\u001b[0;32m    240\u001b[0m         alert_text \u001b[38;5;241m=\u001b[39m value[\u001b[38;5;124m'\u001b[39m\u001b[38;5;124malert\u001b[39m\u001b[38;5;124m'\u001b[39m]\u001b[38;5;241m.\u001b[39mget(\u001b[38;5;124m'\u001b[39m\u001b[38;5;124mtext\u001b[39m\u001b[38;5;124m'\u001b[39m)\n\u001b[0;32m    241\u001b[0m     \u001b[38;5;28;01mraise\u001b[39;00m exception_class(message, screen, stacktrace, alert_text)\n\u001b[1;32m--> 242\u001b[0m \u001b[38;5;28;01mraise\u001b[39;00m exception_class(message, screen, stacktrace)\n",
      "\u001b[1;31mStaleElementReferenceException\u001b[0m: Message: stale element reference: element is not attached to the page document\n  (Session info: chrome=106.0.5249.119)\n"
     ]
    }
   ],
   "source": [
    "burgerButton = driver.find_element(By.CLASS_NAME, \"nav-element__burger\")\n",
    "forWomenButton = driver.find_element(By.CLASS_NAME, \"menu-burger__main-list-link--306\")\n",
    "forMenButton = driver.find_element(By.CLASS_NAME, \"menu-burger__main-list-link--566\")\n",
    "shoesButton = driver.find_element(By.CLASS_NAME, \"menu-burger__main-list-link--629\")\n",
    "forBabiesButton = driver.find_element(By.CLASS_NAME, \"menu-burger__main-list-link--115\")\n",
    "accessoriesButton = driver.find_element(By.CLASS_NAME, \"menu-burger__main-list-link--1\")\n",
    "# subCategoryList = driver.find_element(By.CLASS_NAME, \"menu-catalog__list-2 maincatalog-list-2\")\n",
    "subCategorListTitle  = \"j-menu-item\"\n",
    "\n",
    "\n",
    "allButtons = [forMenButton, forWomenButton, shoesButton, forBabiesButton, accessoriesButton]\n",
    "\n",
    "#press burger button and category shoes\n",
    "ActionChains(driver).click(burgerButton).pause(1).click(shoesButton).perform()\n",
    "\n",
    "#get again the content after pressing burger button\n",
    "content = driver.page_source\n",
    "soup = BeautifulSoup(content)\n",
    "\n",
    "# block = soup.find('ul', attrs={'class':subCategorListTitle})\n",
    "# print(block)\n",
    "\n",
    "catalogList = driver.find_element(By.CLASS_NAME, \"menu-catalog__list-2\")\n",
    "items = catalogList.find_elements_by_tag_name(\"li\")\n",
    "\n",
    "\n",
    "for block in items:\n",
    "    print(block)\n",
    "    ActionChains(driver).click(block).pause(5).perform()\n",
    "    ActionChains(driver).click(burgerButton).pause(1).click(shoesButton).perform()\n"
   ]
  },
  {
   "cell_type": "code",
   "execution_count": null,
   "id": "f7d3eb05",
   "metadata": {},
   "outputs": [],
   "source": []
  },
  {
   "cell_type": "code",
   "execution_count": null,
   "id": "4d3a2df6",
   "metadata": {},
   "outputs": [],
   "source": []
  },
  {
   "cell_type": "code",
   "execution_count": null,
   "id": "4f25a038",
   "metadata": {},
   "outputs": [],
   "source": []
  },
  {
   "cell_type": "code",
   "execution_count": null,
   "id": "02b6032d",
   "metadata": {},
   "outputs": [],
   "source": []
  }
 ],
 "metadata": {
  "kernelspec": {
   "display_name": "Python 3 (ipykernel)",
   "language": "python",
   "name": "python3"
  },
  "language_info": {
   "codemirror_mode": {
    "name": "ipython",
    "version": 3
   },
   "file_extension": ".py",
   "mimetype": "text/x-python",
   "name": "python",
   "nbconvert_exporter": "python",
   "pygments_lexer": "ipython3",
   "version": "3.9.4"
  }
 },
 "nbformat": 4,
 "nbformat_minor": 5
}
